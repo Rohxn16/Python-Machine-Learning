{
 "cells": [
  {
   "cell_type": "code",
   "execution_count": 2,
   "metadata": {},
   "outputs": [],
   "source": [
    "import regex as re"
   ]
  },
  {
   "cell_type": "markdown",
   "metadata": {},
   "source": [
    "### Data Collection Through pattern recognition using python regex"
   ]
  },
  {
   "cell_type": "code",
   "execution_count": 3,
   "metadata": {},
   "outputs": [],
   "source": [
    "chat1 = 'me: my phone number is : 9088939521 , rohxn@gmail.com'\n",
    "chat2 = 'me: here it is: (123)-567-8912, abcd@gmail.com'\n",
    "chat3 = 'me: yes, phone number : 1235678912 email abcdx@xyz.com'"
   ]
  },
  {
   "cell_type": "code",
   "execution_count": 5,
   "metadata": {},
   "outputs": [
    {
     "name": "stdout",
     "output_type": "stream",
     "text": [
      "['9088939521']\n"
     ]
    }
   ],
   "source": [
    "pattern = '\\d{10}'\n",
    "matches = re.findall(pattern,chat1)\n",
    "print(matches)"
   ]
  },
  {
   "cell_type": "code",
   "execution_count": 6,
   "metadata": {},
   "outputs": [
    {
     "data": {
      "text/plain": [
       "['(123)-567-8912']"
      ]
     },
     "execution_count": 6,
     "metadata": {},
     "output_type": "execute_result"
    }
   ],
   "source": [
    "pattern2 = '\\(\\d{3}\\)-\\d{3}-\\d{4}'\n",
    "matches = re.findall(pattern2,chat2)\n",
    "matches"
   ]
  },
  {
   "cell_type": "code",
   "execution_count": 8,
   "metadata": {},
   "outputs": [
    {
     "name": "stdout",
     "output_type": "stream",
     "text": [
      "9088939521\n",
      "(123)-567-8912\n",
      "1235678912\n"
     ]
    }
   ],
   "source": [
    "pattern3 = '\\(\\d{3}\\)-\\d{3}-\\d{4}|\\d{10}' # pattern type 1 or pattern type 2 filtered out\n",
    "chats = chat1+chat2+chat3\n",
    "matches = re.findall(pattern3,chats)\n",
    "for string in matches:\n",
    "    print(string)"
   ]
  },
  {
   "cell_type": "code",
   "execution_count": 13,
   "metadata": {},
   "outputs": [
    {
     "name": "stdout",
     "output_type": "stream",
     "text": [
      "['rohxn@gmail.comme', 'abcd@gmail.comme', 'abcdx@xyz.com']\n"
     ]
    }
   ],
   "source": [
    "email_pattern = '[a-z0-9A-Z_]*@[a-zA-Z0-9]*\\.[a-zA-Z0-9]*' #fetching email pattern\n",
    "matches = re.findall(email_pattern,chats)\n",
    "print(matches)"
   ]
  },
  {
   "cell_type": "code",
   "execution_count": 14,
   "metadata": {},
   "outputs": [
    {
     "name": "stdout",
     "output_type": "stream",
     "text": [
      "['12342323', '']\n"
     ]
    }
   ],
   "source": [
    "# fetching order number pattern\n",
    "order_pattern = '[^\\d]*(\\d*)'\n",
    "text = 'ordernumber=My order number is #12342323'\n",
    "matches = re.findall(order_pattern,text)\n",
    "print(matches)"
   ]
  },
  {
   "cell_type": "markdown",
   "metadata": {},
   "source": [
    "### Information Extraction using python regex"
   ]
  },
  {
   "cell_type": "code",
   "execution_count": 17,
   "metadata": {},
   "outputs": [],
   "source": [
    "info = '''\n",
    "Musk in 2022\n",
    "Born\tElon Reeve Musk\n",
    "\n",
    "June 28, 1971 (age 53)\n",
    "Pretoria, Transvaal, South Africa\n",
    "Citizenship\t\n",
    "\n",
    "    South Africa\n",
    "    Canada\n",
    "    United States\n",
    "\n",
    "Education\tUniversity of Pennsylvania (BA, BS)\n",
    "Title\t\n",
    "\n",
    "    Founder, CEO, and chief engineer of SpaceX\n",
    "    CEO and product architect of Tesla, Inc.\n",
    "    Owner, CTO and Executive Chairman of X (formerly Twitter)\n",
    "    President of the Musk Foundation\n",
    "    Founder of The Boring Company, X Corp., and xAI\n",
    "    Co-founder of Neuralink, OpenAI, Zip2, and X.com (part of PayPal)\n",
    "\n",
    "Spouses\t\n",
    "\n",
    "    Justine Wilson\n",
    "    \n",
    "    (m. 2000; div. 2008)\n",
    "    Talulah Riley\n",
    "    (m. 2010; div. 2012)\n",
    "    (m. 2013; div. 2016)\n",
    "\n",
    "Partners\t\n",
    "\n",
    "    Grimes (2018-2021)[1]\n",
    "\n",
    "Children\t12[a][3]\n",
    "Parents\t\n",
    "\n",
    "    Errol Musk\n",
    "    Maye Musk\n",
    "\n",
    "Relatives\t\n",
    "\n",
    "    Kimbal Musk (brother)\n",
    "    Tosca Musk (sister)\n",
    "    Lyndon Rive (cousin)\n",
    "\n",
    "Signature\n",
    "'''"
   ]
  },
  {
   "cell_type": "code",
   "execution_count": 21,
   "metadata": {},
   "outputs": [
    {
     "name": "stdout",
     "output_type": "stream",
     "text": [
      "['(age 53)']\n",
      "['', '', '', '', '', '53', '', '']\n"
     ]
    }
   ],
   "source": [
    "#from the above info about elon musk, i gotta retrieve info like\n",
    "age_pattern = '\\(age [0-9]*\\)'\n",
    "matches = re.findall(age_pattern,info)\n",
    "print(matches)\n",
    "pt = '[0-9]*'\n",
    "for string in matches:\n",
    "    age = re.findall(pt,string)\n",
    "    print(age)"
   ]
  },
  {
   "cell_type": "code",
   "execution_count": 23,
   "metadata": {},
   "outputs": [
    {
     "name": "stdout",
     "output_type": "stream",
     "text": [
      "['53']\n"
     ]
    }
   ],
   "source": [
    "#Better way to do this\n",
    "\n",
    "age_pattern = 'age (\\d+)' #d+ lets me select one or more digits that exist\n",
    "matches = re.findall(age_pattern,info)\n",
    "print(matches)"
   ]
  },
  {
   "cell_type": "code",
   "execution_count": 24,
   "metadata": {},
   "outputs": [
    {
     "name": "stdout",
     "output_type": "stream",
     "text": [
      "['June 28, 1971']\n"
     ]
    }
   ],
   "source": [
    "dob_pattern = '([A-Za-z]* \\d+, \\d+) \\(age'\n",
    "matches = re.findall(dob_pattern,info)\n",
    "print(matches)"
   ]
  },
  {
   "cell_type": "code",
   "execution_count": null,
   "metadata": {},
   "outputs": [],
   "source": []
  }
 ],
 "metadata": {
  "kernelspec": {
   "display_name": "PythonMachineLearning",
   "language": "python",
   "name": "python3"
  },
  "language_info": {
   "codemirror_mode": {
    "name": "ipython",
    "version": 3
   },
   "file_extension": ".py",
   "mimetype": "text/x-python",
   "name": "python",
   "nbconvert_exporter": "python",
   "pygments_lexer": "ipython3",
   "version": "3.10.14"
  }
 },
 "nbformat": 4,
 "nbformat_minor": 2
}
