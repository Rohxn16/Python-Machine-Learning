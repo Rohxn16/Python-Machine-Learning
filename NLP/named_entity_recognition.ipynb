{
 "cells": [
  {
   "cell_type": "code",
   "execution_count": 1,
   "metadata": {},
   "outputs": [],
   "source": [
    "import spacy\n"
   ]
  },
  {
   "cell_type": "code",
   "execution_count": 3,
   "metadata": {},
   "outputs": [],
   "source": [
    "nlp = spacy.load('en_core_web_sm')"
   ]
  },
  {
   "cell_type": "code",
   "execution_count": 4,
   "metadata": {},
   "outputs": [
    {
     "data": {
      "text/plain": [
       "['tok2vec', 'tagger', 'parser', 'attribute_ruler', 'lemmatizer', 'ner']"
      ]
     },
     "execution_count": 4,
     "metadata": {},
     "output_type": "execute_result"
    }
   ],
   "source": [
    "nlp.pipe_names"
   ]
  },
  {
   "cell_type": "code",
   "execution_count": 6,
   "metadata": {},
   "outputs": [
    {
     "name": "stdout",
     "output_type": "stream",
     "text": [
      "SpaceX Inc  -->  ORG  --> Companies, agencies, institutions, etc.\n",
      "Twitter  -->  PRODUCT  --> Objects, vehicles, foods, etc. (not services)\n",
      "$45 Billion  -->  MONEY  --> Monetary values, including unit\n"
     ]
    }
   ],
   "source": [
    "#testing spacy's out of the box NER technology, which lacks some lacks some features and works on a fixed set of rules\n",
    "doc = nlp('SpaceX Inc is gonna aquire Twitter for $45 Billion')\n",
    "for entity in doc.ents:\n",
    "    print(entity.text, ' --> ',entity.label_, ' -->', spacy.explain(entity.label_))\n",
    "#twitter should be org but is profuct as per our NER"
   ]
  },
  {
   "cell_type": "code",
   "execution_count": 9,
   "metadata": {},
   "outputs": [
    {
     "data": {
      "text/plain": [
       "['CARDINAL',\n",
       " 'DATE',\n",
       " 'EVENT',\n",
       " 'FAC',\n",
       " 'GPE',\n",
       " 'LANGUAGE',\n",
       " 'LAW',\n",
       " 'LOC',\n",
       " 'MONEY',\n",
       " 'NORP',\n",
       " 'ORDINAL',\n",
       " 'ORG',\n",
       " 'PERCENT',\n",
       " 'PERSON',\n",
       " 'PRODUCT',\n",
       " 'QUANTITY',\n",
       " 'TIME',\n",
       " 'WORK_OF_ART']"
      ]
     },
     "execution_count": 9,
     "metadata": {},
     "output_type": "execute_result"
    }
   ],
   "source": [
    "nlp.pipe_labels['ner'] #these are the pre defined named entities supported by the en_core_web_sm model"
   ]
  },
  {
   "cell_type": "code",
   "execution_count": 11,
   "metadata": {},
   "outputs": [
    {
     "name": "stdout",
     "output_type": "stream",
     "text": [
      "Michael Bloomberg  -->  PERSON  --> People, including fictional\n",
      "Bloomberg  -->  PERSON  --> People, including fictional\n",
      "1982  -->  DATE  --> Absolute or relative dates or periods\n"
     ]
    }
   ],
   "source": [
    "doc = nlp('Michael Bloomberg founded Bloomberg in 1982') #the first bloomberg is a \n",
    "\n",
    "for entity in doc.ents:\n",
    "    print(entity.text, ' --> ',entity.label_, ' -->', spacy.explain(entity.label_))\n"
   ]
  },
  {
   "cell_type": "code",
   "execution_count": 12,
   "metadata": {},
   "outputs": [],
   "source": [
    "# Setting a custom entity\n",
    "from spacy.tokens import Span\n",
    "\n",
    "s1 = Span(doc,0,1,label='PERSON')\n",
    "s2 = Span(doc, 3,4,label='ORG')"
   ]
  },
  {
   "cell_type": "code",
   "execution_count": 13,
   "metadata": {},
   "outputs": [],
   "source": [
    "doc.set_ents([s1,s2],default='unmodified')"
   ]
  },
  {
   "cell_type": "code",
   "execution_count": 14,
   "metadata": {},
   "outputs": [
    {
     "name": "stdout",
     "output_type": "stream",
     "text": [
      "Michael Bloomberg  -->  PERSON  --> People, including fictional\n",
      "Bloomberg  -->  ORG  --> Companies, agencies, institutions, etc.\n",
      "1982  -->  DATE  --> Absolute or relative dates or periods\n"
     ]
    }
   ],
   "source": [
    "for entity in doc.ents:\n",
    "    print(entity.text, ' --> ',entity.label_, ' -->', spacy.explain(entity.label_))\n"
   ]
  },
  {
   "cell_type": "markdown",
   "metadata": {},
   "source": [
    "### Building my own NER (imp) : \n",
    "- Approach 1: Simple lookup and comparison\n",
    "- Approach 2: Using rule based NER\n",
    "- Approach 3: Machine Learning based NER, conditional random fields (CRF) , BERT, etc."
   ]
  }
 ],
 "metadata": {
  "kernelspec": {
   "display_name": "PythonMachineLearning",
   "language": "python",
   "name": "python3"
  },
  "language_info": {
   "codemirror_mode": {
    "name": "ipython",
    "version": 3
   },
   "file_extension": ".py",
   "mimetype": "text/x-python",
   "name": "python",
   "nbconvert_exporter": "python",
   "pygments_lexer": "ipython3",
   "version": "3.10.14"
  }
 },
 "nbformat": 4,
 "nbformat_minor": 2
}
