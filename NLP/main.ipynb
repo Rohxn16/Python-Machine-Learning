{
 "cells": [
  {
   "cell_type": "code",
   "execution_count": 2,
   "metadata": {},
   "outputs": [],
   "source": [
    "import spacy #Provides automatically optimized algorithms"
   ]
  },
  {
   "cell_type": "code",
   "execution_count": 4,
   "metadata": {},
   "outputs": [
    {
     "name": "stdout",
     "output_type": "stream",
     "text": [
      "Dr. Sen loves Pav Bhaji.\n",
      "He highly advices against smoking.\n"
     ]
    }
   ],
   "source": [
    "nlp = spacy.load('en_core_web_sm')\n",
    "doc = nlp('Dr. Sen loves Pav Bhaji. He highly advices against smoking.')\n",
    "\n",
    "for sentence in doc.sents:\n",
    "    print(sentence)"
   ]
  },
  {
   "cell_type": "code",
   "execution_count": 5,
   "metadata": {},
   "outputs": [
    {
     "name": "stdout",
     "output_type": "stream",
     "text": [
      "Dr.\n",
      "Sen\n",
      "loves\n",
      "Pav\n",
      "Bhaji\n",
      ".\n",
      "He\n",
      "highly\n",
      "advices\n",
      "against\n",
      "smoking\n",
      ".\n"
     ]
    }
   ],
   "source": [
    "for sentence in doc.sents:\n",
    "    for word in sentence:\n",
    "        print(word)"
   ]
  },
  {
   "cell_type": "code",
   "execution_count": 10,
   "metadata": {},
   "outputs": [
    {
     "data": {
      "text/plain": [
       "['Dr.',\n",
       " 'Sen',\n",
       " 'loves',\n",
       " 'Pav',\n",
       " 'Bhaji',\n",
       " '.',\n",
       " 'He',\n",
       " 'highly',\n",
       " 'advices',\n",
       " 'against',\n",
       " 'smoking',\n",
       " '.']"
      ]
     },
     "execution_count": 10,
     "metadata": {},
     "output_type": "execute_result"
    }
   ],
   "source": [
    "import nltk #user can select their algo\n",
    "# nltk.download('punkt')\n",
    "from nltk.tokenize import sent_tokenize,word_tokenize\n",
    "\n",
    "sent_tokenize('Dr. Sen loves Pav Bhaji. He highly advices against smoking.')\n",
    "word_tokenize('Dr. Sen loves Pav Bhaji. He highly advices against smoking.')"
   ]
  }
 ],
 "metadata": {
  "kernelspec": {
   "display_name": "PythonMachineLearning",
   "language": "python",
   "name": "python3"
  },
  "language_info": {
   "codemirror_mode": {
    "name": "ipython",
    "version": 3
   },
   "file_extension": ".py",
   "mimetype": "text/x-python",
   "name": "python",
   "nbconvert_exporter": "python",
   "pygments_lexer": "ipython3",
   "version": "3.10.14"
  }
 },
 "nbformat": 4,
 "nbformat_minor": 2
}
