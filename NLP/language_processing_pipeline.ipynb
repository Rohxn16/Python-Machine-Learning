{
 "cells": [
  {
   "cell_type": "code",
   "execution_count": 1,
   "metadata": {},
   "outputs": [],
   "source": [
    "import spacy"
   ]
  },
  {
   "cell_type": "code",
   "execution_count": 2,
   "metadata": {},
   "outputs": [
    {
     "name": "stdout",
     "output_type": "stream",
     "text": [
      "Captain\n",
      "America\n",
      "ate\n",
      "100\n",
      "$\n",
      "worth\n",
      "of\n",
      "CheeseBurgers\n",
      "yesterday\n"
     ]
    }
   ],
   "source": [
    "nlp = spacy.blank('en') #loads the empl\n",
    "doc = nlp('Captain America ate 100$ worth of CheeseBurgers yesterday')\n",
    "for token in doc:\n",
    "    print(token)"
   ]
  },
  {
   "cell_type": "code",
   "execution_count": 3,
   "metadata": {},
   "outputs": [
    {
     "name": "stdout",
     "output_type": "stream",
     "text": [
      "[]\n"
     ]
    }
   ],
   "source": [
    "print(nlp.pipe_names)"
   ]
  },
  {
   "cell_type": "code",
   "execution_count": 4,
   "metadata": {},
   "outputs": [
    {
     "name": "stdout",
     "output_type": "stream",
     "text": [
      "['tok2vec', 'tagger', 'parser', 'attribute_ruler', 'lemmatizer', 'ner']\n"
     ]
    }
   ],
   "source": [
    "nlp = spacy.load('en_core_web_sm')\n",
    "print(nlp.pipe_names)"
   ]
  },
  {
   "cell_type": "code",
   "execution_count": 5,
   "metadata": {},
   "outputs": [
    {
     "name": "stdout",
     "output_type": "stream",
     "text": [
      "Captain  |  PROPN  |  Captain\n",
      "America  |  PROPN  |  America\n",
      "ate  |  VERB  |  eat\n",
      "100  |  NUM  |  100\n",
      "$  |  SYM  |  $\n",
      "worth  |  ADJ  |  worth\n",
      "of  |  ADP  |  of\n",
      "CheeseBurgers  |  PROPN  |  CheeseBurgers\n",
      "yesterday  |  NOUN  |  yesterday\n"
     ]
    }
   ],
   "source": [
    "doc = nlp('Captain America ate 100$ worth of CheeseBurgers yesterday')\n",
    "for token in doc:\n",
    "    print(token, ' | ',token.pos_, ' | ',token.lemma_)  #tagger gives us the parts of speech\n",
    "    #lametization gives us lemma"
   ]
  },
  {
   "cell_type": "code",
   "execution_count": 6,
   "metadata": {},
   "outputs": [
    {
     "name": "stdout",
     "output_type": "stream",
     "text": [
      "CheeseBurgers  |  ORG\n",
      "yesterday  |  DATE\n"
     ]
    }
   ],
   "source": [
    "# ner is the language processing pipeline\n",
    "for ent in doc.ents:\n",
    "    print(ent.text, ' | ', ent.label_)"
   ]
  },
  {
   "cell_type": "code",
   "execution_count": 7,
   "metadata": {},
   "outputs": [
    {
     "data": {
      "text/html": [
       "<span class=\"tex2jax_ignore\"><div class=\"entities\" style=\"line-height: 2.5; direction: ltr\">Captain America ate 100$ worth of \n",
       "<mark class=\"entity\" style=\"background: #7aecec; padding: 0.45em 0.6em; margin: 0 0.25em; line-height: 1; border-radius: 0.35em;\">\n",
       "    CheeseBurgers\n",
       "    <span style=\"font-size: 0.8em; font-weight: bold; line-height: 1; border-radius: 0.35em; vertical-align: middle; margin-left: 0.5rem\">ORG</span>\n",
       "</mark>\n",
       " \n",
       "<mark class=\"entity\" style=\"background: #bfe1d9; padding: 0.45em 0.6em; margin: 0 0.25em; line-height: 1; border-radius: 0.35em;\">\n",
       "    yesterday\n",
       "    <span style=\"font-size: 0.8em; font-weight: bold; line-height: 1; border-radius: 0.35em; vertical-align: middle; margin-left: 0.5rem\">DATE</span>\n",
       "</mark>\n",
       "</div></span>"
      ],
      "text/plain": [
       "<IPython.core.display.HTML object>"
      ]
     },
     "metadata": {},
     "output_type": "display_data"
    }
   ],
   "source": [
    "from spacy import displacy\n",
    "displacy.render(doc,style=\"ent\")"
   ]
  },
  {
   "cell_type": "code",
   "execution_count": 8,
   "metadata": {},
   "outputs": [
    {
     "name": "stdout",
     "output_type": "stream",
     "text": [
      "['ner']\n"
     ]
    }
   ],
   "source": [
    "# adding custom compontents to black pipeline\n",
    "source_nlp = spacy.load('en_core_web_sm')\n",
    "nlp = spacy.blank('en')\n",
    "nlp.add_pipe('ner',source=source_nlp)\n",
    "print(nlp.pipe_names)"
   ]
  },
  {
   "cell_type": "code",
   "execution_count": 12,
   "metadata": {},
   "outputs": [
    {
     "name": "stdout",
     "output_type": "stream",
     "text": [
      "Elon Musk  |  PERSON\n",
      "$69 billion  |  MONEY\n"
     ]
    }
   ],
   "source": [
    "doc = nlp(\"Twitter was aquired by Elon Musk for $69 billion\")\n",
    "for entity in doc.ents:\n",
    "    print(entity.text, ' | ', entity.label_)"
   ]
  }
 ],
 "metadata": {
  "kernelspec": {
   "display_name": "PythonMachineLearning",
   "language": "python",
   "name": "python3"
  },
  "language_info": {
   "codemirror_mode": {
    "name": "ipython",
    "version": 3
   },
   "file_extension": ".py",
   "mimetype": "text/x-python",
   "name": "python",
   "nbconvert_exporter": "python",
   "pygments_lexer": "ipython3",
   "version": "3.10.14"
  }
 },
 "nbformat": 4,
 "nbformat_minor": 2
}
